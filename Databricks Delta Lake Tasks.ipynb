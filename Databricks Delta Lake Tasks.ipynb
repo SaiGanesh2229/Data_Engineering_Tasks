{
 "cells": [
  {
   "cell_type": "code",
   "execution_count": 0,
   "metadata": {
    "application/vnd.databricks.v1+cell": {
     "cellMetadata": {
      "byteLimit": 2048000,
      "rowLimit": 10000
     },
     "inputWidgets": {},
     "nuid": "9f5d9fe2-b687-4c48-9a7d-ca4d7001ddb1",
     "showTitle": false,
     "title": ""
    }
   },
   "outputs": [
    {
     "output_type": "execute_result",
     "data": {
      "text/plain": [
       "True"
      ]
     },
     "execution_count": 1,
     "metadata": {},
     "output_type": "execute_result"
    }
   ],
   "source": [
    "dbutils.fs.cp(\"file:/Workspace/Shared/sales_data1.csv\", \"dbfs:/FileStore/sales_data1.csv\")"
   ]
  },
  {
   "cell_type": "code",
   "execution_count": 0,
   "metadata": {
    "application/vnd.databricks.v1+cell": {
     "cellMetadata": {
      "byteLimit": 2048000,
      "rowLimit": 10000
     },
     "inputWidgets": {},
     "nuid": "9d3ee5ea-e135-44d9-8c93-6b7940192e7c",
     "showTitle": false,
     "title": ""
    }
   },
   "outputs": [
    {
     "output_type": "execute_result",
     "data": {
      "text/plain": [
       "True"
      ]
     },
     "execution_count": 3,
     "metadata": {},
     "output_type": "execute_result"
    }
   ],
   "source": [
    "dbutils.fs.cp(\"file:/Workspace/Shared/customer_data.json\", \"dbfs:/FileStore/customer_data.json\")"
   ]
  },
  {
   "cell_type": "code",
   "execution_count": 0,
   "metadata": {
    "application/vnd.databricks.v1+cell": {
     "cellMetadata": {
      "byteLimit": 2048000,
      "rowLimit": 10000
     },
     "inputWidgets": {},
     "nuid": "141df1eb-8b9f-4dfd-badd-6808fb6c2834",
     "showTitle": false,
     "title": ""
    }
   },
   "outputs": [
    {
     "output_type": "execute_result",
     "data": {
      "text/plain": [
       "True"
      ]
     },
     "execution_count": 4,
     "metadata": {},
     "output_type": "execute_result"
    }
   ],
   "source": [
    "dbutils.fs.cp(\"file:/Workspace/Shared/new_sales_data.csv\", \"dbfs:/FileStore/new_sales_data.csv\")"
   ]
  },
  {
   "cell_type": "code",
   "execution_count": 0,
   "metadata": {
    "application/vnd.databricks.v1+cell": {
     "cellMetadata": {
      "byteLimit": 2048000,
      "rowLimit": 10000
     },
     "inputWidgets": {},
     "nuid": "015f2586-1130-4b47-ba11-ab7cf8457ea0",
     "showTitle": false,
     "title": ""
    }
   },
   "outputs": [],
   "source": [
    "# 1.1 Load sales_data.csv into a DataFrame and Write as Delta Table\n",
    "# Load sales_data.csv into DataFrame\n",
    "sales_df = spark.read.format(\"csv\").option(\"header\", \"true\").load(\"dbfs:/FileStore/sales_data1.csv\")"
   ]
  },
  {
   "cell_type": "code",
   "execution_count": 0,
   "metadata": {
    "application/vnd.databricks.v1+cell": {
     "cellMetadata": {
      "byteLimit": 2048000,
      "rowLimit": 10000
     },
     "inputWidgets": {},
     "nuid": "d0fcce6d-594d-43df-b163-91f1ccea0266",
     "showTitle": false,
     "title": ""
    }
   },
   "outputs": [],
   "source": [
    "\n",
    "# Write the DataFrame as Delta Table\n",
    "sales_df.write.format(\"delta\").mode(\"overwrite\").save(\"/delta/sales_data\")"
   ]
  },
  {
   "cell_type": "code",
   "execution_count": 0,
   "metadata": {
    "application/vnd.databricks.v1+cell": {
     "cellMetadata": {
      "byteLimit": 2048000,
      "rowLimit": 10000
     },
     "inputWidgets": {},
     "nuid": "9f5eb9dd-48dd-4aaf-a62f-627f140afd2c",
     "showTitle": false,
     "title": ""
    }
   },
   "outputs": [],
   "source": [
    "from pyspark.sql.types import StructType, StructField, StringType, DateType\n",
    "\n",
    "# Define schema for customer_data.json\n",
    "customer_schema = StructType([\n",
    "    StructField(\"CustomerID\", StringType(), True),\n",
    "    StructField(\"CustomerName\", StringType(), True),\n",
    "    StructField(\"Region\", StringType(), True),\n",
    "    StructField(\"SignupDate\", DateType(), True)  \n",
    "])\n"
   ]
  },
  {
   "cell_type": "code",
   "execution_count": 0,
   "metadata": {
    "application/vnd.databricks.v1+cell": {
     "cellMetadata": {
      "byteLimit": 2048000,
      "rowLimit": 10000
     },
     "inputWidgets": {},
     "nuid": "85c046ea-d94d-42cd-aaef-b06dd71a5868",
     "showTitle": false,
     "title": ""
    }
   },
   "outputs": [
    {
     "output_type": "stream",
     "name": "stdout",
     "output_type": "stream",
     "text": [
      "+----------+-------------+------+----------+\n|CustomerID| CustomerName|Region|SignupDate|\n+----------+-------------+------+----------+\n|      C001|     John Doe| North|2022-07-01|\n|      C002|   Jane Smith| South|2023-02-15|\n|      C003|Emily Johnson|  East|2021-11-20|\n|      C004|Michael Brown|  West|2022-12-05|\n|      C005|  Linda Davis| North|2023-03-10|\n+----------+-------------+------+----------+\n\n"
     ]
    }
   ],
   "source": [
    "# 1.2 Load customer_data.json into a DataFrame and Write as Delta Table\n",
    "# Load the JSON data with the defined schema\n",
    "customer_df = spark.read.format(\"json\").schema(customer_schema).load(\"dbfs:/FileStore/customer_data.json\")\n",
    "customer_df.show()"
   ]
  },
  {
   "cell_type": "code",
   "execution_count": 0,
   "metadata": {
    "application/vnd.databricks.v1+cell": {
     "cellMetadata": {
      "byteLimit": 2048000,
      "rowLimit": 10000
     },
     "inputWidgets": {},
     "nuid": "cbdb157c-7a08-44e4-8c2b-9d106851e120",
     "showTitle": false,
     "title": ""
    }
   },
   "outputs": [],
   "source": [
    "# Write the DataFrame as Delta Table\n",
    "customer_df.write.format(\"delta\").mode(\"overwrite\").save(\"/delta/customer_data\")"
   ]
  },
  {
   "cell_type": "code",
   "execution_count": 0,
   "metadata": {
    "application/vnd.databricks.v1+cell": {
     "cellMetadata": {
      "byteLimit": 2048000,
      "rowLimit": 10000
     },
     "inputWidgets": {},
     "nuid": "b5421a34-f832-4e2f-8c71-5892e68c6951",
     "showTitle": false,
     "title": ""
    }
   },
   "outputs": [],
   "source": [
    "# 2.1 Load new_sales_data.csv into a DataFrame and Write as Delta Table\n",
    "# Load new_sales_data.csv into DataFrame\n",
    "new_sales_df = spark.read.format(\"csv\").option(\"header\", \"true\").load(\"dbfs:/FileStore/new_sales_data.csv\")"
   ]
  },
  {
   "cell_type": "code",
   "execution_count": 0,
   "metadata": {
    "application/vnd.databricks.v1+cell": {
     "cellMetadata": {
      "byteLimit": 2048000,
      "rowLimit": 10000
     },
     "inputWidgets": {},
     "nuid": "5dd052cb-fd92-404e-a549-dc23a4d77894",
     "showTitle": false,
     "title": ""
    }
   },
   "outputs": [],
   "source": [
    "# Write the new DataFrame as Delta Table\n",
    "new_sales_df.write.format(\"delta\").mode(\"overwrite\").save(\"/delta/new_sales_data\")"
   ]
  },
  {
   "cell_type": "code",
   "execution_count": 0,
   "metadata": {
    "application/vnd.databricks.v1+cell": {
     "cellMetadata": {
      "byteLimit": 2048000,
      "rowLimit": 10000
     },
     "inputWidgets": {},
     "nuid": "92236912-5eb0-4044-863f-191628ff4815",
     "showTitle": false,
     "title": ""
    }
   },
   "outputs": [],
   "source": [
    "from delta.tables import *\n",
    "\n",
    "# Load existing Delta table\n",
    "delta_table =spark.read.format(\"delta\").load(\"/delta/sales_data\")\n",
    "delta_new_sales=spark.read.format(\"delta\").load(\"/delta/new_sales_data\")\n",
    "# Create temporary views for SQL operations\n",
    "delta_table.createOrReplaceTempView(\"delta_sales_data\")\n",
    "delta_new_sales.createOrReplaceTempView(\"new_sales_data\")"
   ]
  },
  {
   "cell_type": "code",
   "execution_count": 0,
   "metadata": {
    "application/vnd.databricks.v1+cell": {
     "cellMetadata": {
      "byteLimit": 2048000,
      "rowLimit": 10000
     },
     "inputWidgets": {},
     "nuid": "36f2acc3-c553-4baa-8f9a-9cb278a279eb",
     "showTitle": false,
     "title": ""
    }
   },
   "outputs": [
    {
     "output_type": "execute_result",
     "data": {
      "text/plain": [
       "DataFrame[num_affected_rows: bigint, num_updated_rows: bigint, num_deleted_rows: bigint, num_inserted_rows: bigint]"
      ]
     },
     "execution_count": 50,
     "metadata": {},
     "output_type": "execute_result"
    }
   ],
   "source": [
    "# Merge new sales data into existing Delta Table\n",
    "spark.sql(\"\"\"\n",
    "          MERGE INTO delta_sales_data AS target\n",
    "          USING new_sales_data AS source\n",
    "          ON target.OrderID = source.OrderID\n",
    "          WHEN MATCHED THEN UPDATE SET target.OrderDate=source.OrderDate, target.CustomerID = source.CustomerID, target.Product=source.Product,\n",
    "          target.Quantity=source.Quantity, target.Price=source.Price\n",
    "          WHEN NOT MATCHED THEN INSERT (OrderID,OrderDate,CustomerID,Product,Quantity,Price)\n",
    "          VALUES (source.OrderID, source.OrderDate, source.CustomerID, source.Product, source.Quantity, source.Price)\n",
    "\"\"\")\n"
   ]
  },
  {
   "cell_type": "code",
   "execution_count": 0,
   "metadata": {
    "application/vnd.databricks.v1+cell": {
     "cellMetadata": {
      "byteLimit": 2048000,
      "rowLimit": 10000
     },
     "inputWidgets": {},
     "nuid": "1cc84d85-24a2-44cb-9909-78e825450bd0",
     "showTitle": false,
     "title": ""
    }
   },
   "outputs": [
    {
     "output_type": "stream",
     "name": "stdout",
     "output_type": "stream",
     "text": [
      "+-------+----------+----------+--------+--------+-----+\n|OrderID| OrderDate|CustomerID| Product|Quantity|Price|\n+-------+----------+----------+--------+--------+-----+\n|   1001|2024-01-15|      C001|Widget A|      10|25.50|\n|   1003|2024-01-16|      C001|Widget C|       8|22.50|\n|   1004|2024-01-17|      C003|Widget A|      15|25.50|\n|   1005|2024-01-18|      C004|Widget D|       7|30.00|\n|   1006|2024-01-19|      C002|Widget B|       9|15.75|\n|   1007|2024-01-20|      C005|Widget C|      12|22.50|\n|   1008|2024-01-21|      C003|Widget A|      10|25.50|\n|   1002|2024-01-16|      C002|Widget B|      10|15.75|\n|   1009|2024-01-22|      C006|Widget E|      14|20.00|\n|   1010|2024-01-23|      C007|Widget F|       6|35.00|\n+-------+----------+----------+--------+--------+-----+\n\n"
     ]
    }
   ],
   "source": [
    "spark.sql(\"SELECT * FROM delta_sales_data\").show()"
   ]
  },
  {
   "cell_type": "code",
   "execution_count": 0,
   "metadata": {
    "application/vnd.databricks.v1+cell": {
     "cellMetadata": {
      "byteLimit": 2048000,
      "rowLimit": 10000
     },
     "inputWidgets": {},
     "nuid": "18f9538c-30e7-4334-93cd-a8206b80d5b2",
     "showTitle": false,
     "title": ""
    }
   },
   "outputs": [
    {
     "output_type": "execute_result",
     "data": {
      "text/plain": [
       "DataFrame[]"
      ]
     },
     "execution_count": 33,
     "metadata": {},
     "output_type": "execute_result"
    }
   ],
   "source": [
    "# Register delta table\n",
    "spark.sql(\"CREATE TABLE IF NOT EXISTS delta_sales_table USING DELTA LOCATION '/delta/sales_data'\")"
   ]
  },
  {
   "cell_type": "code",
   "execution_count": 0,
   "metadata": {
    "application/vnd.databricks.v1+cell": {
     "cellMetadata": {
      "byteLimit": 2048000,
      "rowLimit": 10000
     },
     "inputWidgets": {},
     "nuid": "0f26476f-f500-425b-9cc3-7965165f01cb",
     "showTitle": false,
     "title": ""
    }
   },
   "outputs": [
    {
     "output_type": "stream",
     "name": "stdout",
     "output_type": "stream",
     "text": [
      "root\n |-- OrderID: string (nullable = true)\n |-- OrderDate: string (nullable = true)\n |-- CustomerID: string (nullable = true)\n |-- Product: string (nullable = true)\n |-- Quantity: string (nullable = true)\n |-- Price: string (nullable = true)\n\n"
     ]
    }
   ],
   "source": [
    "# Check the schema of the Delta table\n",
    "spark.read.format(\"delta\").load(\"/delta/sales_data\").printSchema()\n"
   ]
  },
  {
   "cell_type": "code",
   "execution_count": 0,
   "metadata": {
    "application/vnd.databricks.v1+cell": {
     "cellMetadata": {
      "byteLimit": 2048000,
      "rowLimit": 10000
     },
     "inputWidgets": {},
     "nuid": "378ac815-dc42-44b4-a46b-eff23ee663d4",
     "showTitle": false,
     "title": ""
    }
   },
   "outputs": [
    {
     "output_type": "execute_result",
     "data": {
      "text/plain": [
       "DataFrame[path: string, metrics: struct<numFilesAdded:bigint,numFilesRemoved:bigint,filesAdded:struct<min:bigint,max:bigint,avg:double,totalFiles:bigint,totalSize:bigint>,filesRemoved:struct<min:bigint,max:bigint,avg:double,totalFiles:bigint,totalSize:bigint>,partitionsOptimized:bigint,zOrderStats:struct<strategyName:string,inputCubeFiles:struct<num:bigint,size:bigint>,inputOtherFiles:struct<num:bigint,size:bigint>,inputNumCubes:bigint,mergedFiles:struct<num:bigint,size:bigint>,numOutputCubes:bigint,mergedNumCubes:bigint>,numBatches:bigint,totalConsideredFiles:bigint,totalFilesSkipped:bigint,preserveInsertionOrder:boolean,numFilesSkippedToReduceWriteAmplification:bigint,numBytesSkippedToReduceWriteAmplification:bigint,startTimeMs:bigint,endTimeMs:bigint,totalClusterParallelism:bigint,totalScheduledTasks:bigint,autoCompactParallelismStats:struct<maxClusterActiveParallelism:bigint,minClusterActiveParallelism:bigint,maxSessionActiveParallelism:bigint,minSessionActiveParallelism:bigint>,deletionVectorStats:struct<numDeletionVectorsRemoved:bigint,numDeletionVectorRowsRemoved:bigint>,numTableColumns:bigint,numTableColumnsWithStats:bigint,totalTaskExecutionTimeMs:bigint,skippedArchivedFiles:bigint,clusteringMetrics:struct<sizeOfTableInBytesBeforeLazyClustering:bigint,isNewMetadataCreated:boolean,isPOTriggered:boolean,numFilesSkippedWithoutStats:bigint,numFilesClassifiedToIntermediateNodes:bigint,sizeOfFilesClassifiedToIntermediateNodesInBytes:bigint,logicalSizeOfFilesClassifiedToIntermediateNodesInBytes:bigint,numFilesClassifiedToLeafNodes:bigint,sizeOfFilesClassifiedToLeafNodesInBytes:bigint,logicalSizeOfFilesClassifiedToLeafNodesInBytes:bigint,numThreadsForClassifier:int,clusterThresholdStrategy:string,minFileSize:bigint,maxFileSize:bigint,nodeMinNumFilesToCompact:bigint,numIdealFiles:bigint,numClusteringTasksPlanned:int,numCompactionTasksPlanned:int,numOptimizeBatchesPlanned:int,numLeafNodesExpanded:bigint,numLeafNodesClustered:bigint,numGetFilesForNodeCalls:bigint,numSamplingJobs:bigint,numLeafNodesCompacted:bigint,numIntermediateNodesCompacted:bigint,totalSizeOfDataToCompactInBytes:bigint,totalLogicalSizeOfDataToCompactInBytes:bigint,numIntermediateNodesClustered:bigint,numFilesSkippedAfterExpansion:bigint,totalSizeOfFilesSkippedAfterExpansionInBytes:bigint,totalLogicalSizeOfFilesSkippedAfterExpansionInBytes:bigint,totalSizeOfDataToRewriteInBytes:bigint,totalLogicalSizeOfDataToRewriteInBytes:bigint,timeMetrics:struct<classifierTimeMs:bigint,optimizerTimeMs:bigint,metadataLoadTimeMs:bigint,totalGetFilesForNodeCallsTimeMs:bigint,totalSamplingTimeMs:bigint,metadataCreationTimeMs:bigint>,maxOptimizeBatchesInParallel:bigint,currentIteration:int,maxIterations:int,clusteringStrategy:string>>]"
      ]
     },
     "execution_count": 44,
     "metadata": {},
     "output_type": "execute_result"
    }
   ],
   "source": [
    "# 3. Optimize Delta Table\n",
    "# 3.1 Apply the OPTIMIZE command on the Delta Table and use Z-Ordering on an appropriate column.\n",
    "spark.sql(\" OPTIMIZE delta_sales_table \")"
   ]
  },
  {
   "cell_type": "code",
   "execution_count": 0,
   "metadata": {
    "application/vnd.databricks.v1+cell": {
     "cellMetadata": {
      "byteLimit": 2048000,
      "rowLimit": 10000
     },
     "inputWidgets": {},
     "nuid": "f4fe8a13-1e31-4e23-aa7b-243fec94e4fd",
     "showTitle": false,
     "title": ""
    }
   },
   "outputs": [
    {
     "output_type": "execute_result",
     "data": {
      "text/plain": [
       "DataFrame[]"
      ]
     },
     "execution_count": 46,
     "metadata": {},
     "output_type": "execute_result"
    }
   ],
   "source": [
    "spark.sql(\"ALTER TABLE delta_sales_table ADD COLUMN CustomerID STRING\")"
   ]
  },
  {
   "cell_type": "code",
   "execution_count": 0,
   "metadata": {
    "application/vnd.databricks.v1+cell": {
     "cellMetadata": {
      "byteLimit": 2048000,
      "rowLimit": 10000
     },
     "inputWidgets": {},
     "nuid": "9eae814a-ac88-4520-b565-165e29deeb3b",
     "showTitle": false,
     "title": ""
    }
   },
   "outputs": [
    {
     "output_type": "execute_result",
     "data": {
      "text/plain": [
       "DataFrame[path: string, metrics: struct<numFilesAdded:bigint,numFilesRemoved:bigint,filesAdded:struct<min:bigint,max:bigint,avg:double,totalFiles:bigint,totalSize:bigint>,filesRemoved:struct<min:bigint,max:bigint,avg:double,totalFiles:bigint,totalSize:bigint>,partitionsOptimized:bigint,zOrderStats:struct<strategyName:string,inputCubeFiles:struct<num:bigint,size:bigint>,inputOtherFiles:struct<num:bigint,size:bigint>,inputNumCubes:bigint,mergedFiles:struct<num:bigint,size:bigint>,numOutputCubes:bigint,mergedNumCubes:bigint>,numBatches:bigint,totalConsideredFiles:bigint,totalFilesSkipped:bigint,preserveInsertionOrder:boolean,numFilesSkippedToReduceWriteAmplification:bigint,numBytesSkippedToReduceWriteAmplification:bigint,startTimeMs:bigint,endTimeMs:bigint,totalClusterParallelism:bigint,totalScheduledTasks:bigint,autoCompactParallelismStats:struct<maxClusterActiveParallelism:bigint,minClusterActiveParallelism:bigint,maxSessionActiveParallelism:bigint,minSessionActiveParallelism:bigint>,deletionVectorStats:struct<numDeletionVectorsRemoved:bigint,numDeletionVectorRowsRemoved:bigint>,numTableColumns:bigint,numTableColumnsWithStats:bigint,totalTaskExecutionTimeMs:bigint,skippedArchivedFiles:bigint,clusteringMetrics:struct<sizeOfTableInBytesBeforeLazyClustering:bigint,isNewMetadataCreated:boolean,isPOTriggered:boolean,numFilesSkippedWithoutStats:bigint,numFilesClassifiedToIntermediateNodes:bigint,sizeOfFilesClassifiedToIntermediateNodesInBytes:bigint,logicalSizeOfFilesClassifiedToIntermediateNodesInBytes:bigint,numFilesClassifiedToLeafNodes:bigint,sizeOfFilesClassifiedToLeafNodesInBytes:bigint,logicalSizeOfFilesClassifiedToLeafNodesInBytes:bigint,numThreadsForClassifier:int,clusterThresholdStrategy:string,minFileSize:bigint,maxFileSize:bigint,nodeMinNumFilesToCompact:bigint,numIdealFiles:bigint,numClusteringTasksPlanned:int,numCompactionTasksPlanned:int,numOptimizeBatchesPlanned:int,numLeafNodesExpanded:bigint,numLeafNodesClustered:bigint,numGetFilesForNodeCalls:bigint,numSamplingJobs:bigint,numLeafNodesCompacted:bigint,numIntermediateNodesCompacted:bigint,totalSizeOfDataToCompactInBytes:bigint,totalLogicalSizeOfDataToCompactInBytes:bigint,numIntermediateNodesClustered:bigint,numFilesSkippedAfterExpansion:bigint,totalSizeOfFilesSkippedAfterExpansionInBytes:bigint,totalLogicalSizeOfFilesSkippedAfterExpansionInBytes:bigint,totalSizeOfDataToRewriteInBytes:bigint,totalLogicalSizeOfDataToRewriteInBytes:bigint,timeMetrics:struct<classifierTimeMs:bigint,optimizerTimeMs:bigint,metadataLoadTimeMs:bigint,totalGetFilesForNodeCallsTimeMs:bigint,totalSamplingTimeMs:bigint,metadataCreationTimeMs:bigint>,maxOptimizeBatchesInParallel:bigint,currentIteration:int,maxIterations:int,clusteringStrategy:string>>]"
      ]
     },
     "execution_count": 47,
     "metadata": {},
     "output_type": "execute_result"
    }
   ],
   "source": [
    "spark.sql(\"OPTIMIZE delta_sales_table ZORDER BY (CustomerID)\")"
   ]
  },
  {
   "cell_type": "code",
   "execution_count": 0,
   "metadata": {
    "application/vnd.databricks.v1+cell": {
     "cellMetadata": {
      "byteLimit": 2048000,
      "rowLimit": 10000
     },
     "inputWidgets": {},
     "nuid": "1fd6515c-e30b-439d-bbd1-4216cb75bf17",
     "showTitle": false,
     "title": ""
    }
   },
   "outputs": [
    {
     "output_type": "stream",
     "name": "stdout",
     "output_type": "stream",
     "text": [
      "+-------+-------------------+----------------+----------------------------------+-----------+---------------------------------------------------------------------------------------------+----+------------------+--------------------+-----------+-----------------+-------------+-----------------------------------------------------------+------------+------------------------------------------+\n|version|timestamp          |userId          |userName                          |operation  |operationParameters                                                                          |job |notebook          |clusterId           |readVersion|isolationLevel   |isBlindAppend|operationMetrics                                           |userMetadata|engineInfo                                |\n+-------+-------------------+----------------+----------------------------------+-----------+---------------------------------------------------------------------------------------------+----+------------------+--------------------+-----------+-----------------+-------------+-----------------------------------------------------------+------------+------------------------------------------+\n|2      |2024-09-13 07:20:56|8838676295264951|azuser2125_mml.local@techademy.com|ADD COLUMNS|{columns -> [{\"column\":{\"name\":\"CustomerID\",\"type\":\"string\",\"nullable\":true,\"metadata\":{}}}]}|NULL|{373646727689575} |0911-091631-qlq2ghxz|1          |WriteSerializable|true         |{}                                                         |NULL        |Databricks-Runtime/14.3.x-photon-scala2.12|\n|1      |2024-09-12 05:59:28|8838676295264951|azuser2125_mml.local@techademy.com|WRITE      |{mode -> Overwrite, statsOnLoad -> false, partitionBy -> []}                                 |NULL|{1933672499065110}|0911-091631-qlq2ghxz|0          |WriteSerializable|false        |{numFiles -> 1, numOutputRows -> 9, numOutputBytes -> 1435}|NULL        |Databricks-Runtime/14.3.x-photon-scala2.12|\n|0      |2024-09-12 05:52:49|8838676295264951|azuser2125_mml.local@techademy.com|WRITE      |{mode -> Overwrite, statsOnLoad -> false, partitionBy -> []}                                 |NULL|{1933672499065110}|0911-091631-qlq2ghxz|NULL       |WriteSerializable|false        |{numFiles -> 1, numOutputRows -> 9, numOutputBytes -> 1435}|NULL        |Databricks-Runtime/14.3.x-photon-scala2.12|\n+-------+-------------------+----------------+----------------------------------+-----------+---------------------------------------------------------------------------------------------+----+------------------+--------------------+-----------+-----------------+-------------+-----------------------------------------------------------+------------+------------------------------------------+\n\n"
     ]
    }
   ],
   "source": [
    "# 4. Advanced Features\n",
    "# 1. Use DESCRIBE HISTORY to inspect the history of changes for a Delta Table.\n",
    "spark.sql(\"DESCRIBE HISTORY delta_sales_table\").show(truncate=False)"
   ]
  },
  {
   "cell_type": "code",
   "execution_count": 0,
   "metadata": {
    "application/vnd.databricks.v1+cell": {
     "cellMetadata": {
      "byteLimit": 2048000,
      "rowLimit": 10000
     },
     "inputWidgets": {},
     "nuid": "5596b9dd-2df6-4978-b24f-6527af9a64ee",
     "showTitle": false,
     "title": ""
    }
   },
   "outputs": [
    {
     "output_type": "execute_result",
     "data": {
      "text/plain": [
       "DataFrame[path: string]"
      ]
     },
     "execution_count": 54,
     "metadata": {},
     "output_type": "execute_result"
    }
   ],
   "source": [
    "# 2. Use VACUUM to remove old files from the Delta Table.\n",
    "spark.sql(\"\"\"\n",
    "         VACUUM delta_sales_table RETAIN 168 HOURS\n",
    "          \"\"\")"
   ]
  },
  {
   "cell_type": "code",
   "execution_count": 0,
   "metadata": {
    "application/vnd.databricks.v1+cell": {
     "cellMetadata": {
      "byteLimit": 2048000,
      "rowLimit": 10000
     },
     "inputWidgets": {},
     "nuid": "9a015c19-2ea3-4932-8a0b-297692aa6ac4",
     "showTitle": false,
     "title": ""
    }
   },
   "outputs": [
    {
     "output_type": "stream",
     "name": "stdout",
     "output_type": "stream",
     "text": [
      "+-------+----------+----------+--------+--------+-----+\n|OrderID| OrderDate|CustomerID| Product|Quantity|Price|\n+-------+----------+----------+--------+--------+-----+\n|   1001|2024-01-15|      C001|Widget A|      10|25.50|\n|   1003|2024-01-16|      C001|Widget C|       8|22.50|\n|   1004|2024-01-17|      C003|Widget A|      15|25.50|\n|   1005|2024-01-18|      C004|Widget D|       7|30.00|\n|   1006|2024-01-19|      C002|Widget B|       9|15.75|\n|   1007|2024-01-20|      C005|Widget C|      12|22.50|\n|   1008|2024-01-21|      C003|Widget A|      10|25.50|\n|   1002|2024-01-16|      C002|Widget B|      10|15.75|\n|   1009|2024-01-22|      C006|Widget E|      14|20.00|\n|   1010|2024-01-23|      C007|Widget F|       6|35.00|\n+-------+----------+----------+--------+--------+-----+\n\n"
     ]
    }
   ],
   "source": [
    "# 5. Hands-on Exercises\n",
    "# 1. Using Delta Lake for Data Versioning\n",
    "# Query historical versions of the Delta Table using Time Travel.\n",
    "historical_df = spark.read.format(\"delta\").option(\"versionAsOf\", 1).load(\"/delta/sales_data\")\n",
    "historical_df.show()\n"
   ]
  },
  {
   "cell_type": "code",
   "execution_count": 0,
   "metadata": {
    "application/vnd.databricks.v1+cell": {
     "cellMetadata": {
      "byteLimit": 2048000,
      "rowLimit": 10000
     },
     "inputWidgets": {},
     "nuid": "ddd01beb-baab-41f9-b55d-ae0c1f684db3",
     "showTitle": false,
     "title": ""
    }
   },
   "outputs": [
    {
     "output_type": "execute_result",
     "data": {
      "text/plain": [
       "DataFrame[path: string]"
      ]
     },
     "execution_count": 57,
     "metadata": {},
     "output_type": "execute_result"
    }
   ],
   "source": [
    "# 2. Building a Reliable Data Lake with Delta Lake:\n",
    "# Implement schema enforcement and handle data updates with Delta Lake \n",
    "# Optimize data layout and perform vacuum operations to maintain storage efficiency.\n",
    "new_sales_df.write.format(\"delta\").mode(\"append\").option(\"mergeSchema\", \"true\").save(\"/path/to/delta/sales_data\")\n",
    "spark.sql(\"VACUUM delta_sales_table\")"
   ]
  }
 ],
 "metadata": {
  "application/vnd.databricks.v1+notebook": {
   "dashboards": [],
   "environmentMetadata": null,
   "language": "python",
   "notebookMetadata": {
    "pythonIndentUnit": 4
   },
   "notebookName": "Databricks Delta Lake Tasks",
   "widgets": {}
  }
 },
 "nbformat": 4,
 "nbformat_minor": 0
}
